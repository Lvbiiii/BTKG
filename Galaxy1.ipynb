{
 "cells": [
  {
   "cell_type": "code",
   "execution_count": null,
   "id": "c9148215",
   "metadata": {},
   "outputs": [],
   "source": [
    "import sys\n",
    "sys.path.append('..')\n",
    "import requests\n",
    "from utils import saveNpy,readJSON,saveNpy,loadNpy,writeCSV\n",
    "import os"
   ]
  },
  {
   "cell_type": "markdown",
   "id": "f378eeb1",
   "metadata": {},
   "source": [
    "获取所有工作流id，存储在workflow_ids"
   ]
  },
  {
   "cell_type": "markdown",
   "id": "cd85a4b3",
   "metadata": {},
   "source": [
    "获取工作流相关信息，name id use_count使用频率，使用频率存储在wf_use_count.npy"
   ]
  },
  {
   "cell_type": "markdown",
   "id": "13bc893e",
   "metadata": {},
   "source": [
    "获取name id use_count的方法如下，上面的好像不行"
   ]
  },
  {
   "cell_type": "code",
   "execution_count": null,
   "id": "cf6fda21",
   "metadata": {},
   "outputs": [],
   "source": [
    "from utils import *\n",
    "import requests\n",
    "GalaxyFileName = 'C:\\\\Users\\\\bby\\\\Desktop\\\\GalaxyWorkflows.json'\n",
    "workflows = readJSON(GalaxyFileName)\n",
    "\n",
    "# 创建一个空列表，用于存储所有工作流的ID\n",
    "workflow_ids = []\n",
    "\n",
    "# 遍历工作流列表，并将每个工作流的ID添加到workflow_ids列表中\n",
    "for workflow in workflows:\n",
    "    workflow_id = workflow[\"id\"]\n",
    "    workflow_ids.append(workflow_id)\n",
    "\n",
    "print(len(workflow_ids))\n",
    "\n",
    "# 遍历workflow_ids列表，并下载每个工作流的数据\n",
    "# 拼接id获取各个工具流的详细数据，保存为json文件\n",
    "\n",
    "# 填写你的API密钥\n",
    "api_key = \"8d874fb05a3f8615b580200b5e530edd\"\n",
    "\n",
    "# 设置请求头，包括API密钥和Galaxy API URL\n",
    "header = {\n",
    "    \"Content-Type\": \"application/json\",\n",
    "    \"Authorization\": f\"Bearer {api_key}\",\n",
    "}\n",
    "\n",
    "\n",
    "for workflow_id in workflow_ids:\n",
    "    # 设置API URL，其中workflow_id是动态的，将根据循环中的当前ID进行更新\n",
    "\n",
    "    url = f\"https://usegalaxy.org/api/workflows/{workflow_id}/download\"\n",
    "    \n",
    "    print(url)\n",
    "\n",
    "    # 发送GET请求，并使用API密钥获取响应\n",
    "    response = requests.get(url,headers=header)\n",
    "\n",
    "    # 将工作流数据保存到新创建的文件夹中，文件名为workflow_id.ga\n",
    "    with open(f\"D:\\\\wenjiannnnnnnnnnnnnnnnnnnnnnnnnnnnnnnnnnnnnnnn\\\\_school\\\\dataset\\\\Galaxy\\\\GalaxyJSON\\\\Galaxy{workflow_id}.json\", \"wb\") as f:\n",
    "        f.write(response.content)"
   ]
  },
  {
   "cell_type": "markdown",
   "id": "03c9626a",
   "metadata": {},
   "source": [
    "拼接id获取各个工具流的详细数据，保存为json文件"
   ]
  },
  {
   "cell_type": "code",
   "execution_count": null,
   "id": "8eadb986",
   "metadata": {},
   "outputs": [],
   "source": []
  },
  {
   "cell_type": "markdown",
   "id": "a350b7f7",
   "metadata": {},
   "source": [
    "读取galaxyJSON文件，解析数据，获取工具相关信息"
   ]
  },
  {
   "cell_type": "code",
   "execution_count": null,
   "id": "26411ad8",
   "metadata": {},
   "outputs": [],
   "source": [
    "#解析工作流文件\n",
    "wf_path=r'D:\\\\wenjiannnnnnnnnnnnnnnnnnnnnnnnnnnnnnnnnnnnnnnn\\\\_school\\\\dataset\\\\galaxyJSON'\n",
    "galaxy_tools=set()\n",
    "wf2tools=dict() \n",
    "seq_len=[] # 每个工作流的工作步骤数\n",
    "for filename in os.listdir(wf_path):\n",
    "    if \"Galaxy\" in filename:\n",
    "        data=readJSON(wf_path+'\\\\'+filename)\n",
    "        if 'name' not in data:\n",
    "            print(\"该工作流id没有name：\",filename)\n",
    "            continue\n",
    "        wf_name=data['name']\n",
    "        steps=data['steps']\n",
    "\n",
    "        tool_list=[]\n",
    "        count=0\n",
    "        if(len(steps)==0):\n",
    "            print(\"该工作流没有工作步骤：\",data['name'])\n",
    "        for s in steps.values():\n",
    "            if(s['type']=='tool'):\n",
    "                tool_list.append(s['name'])\n",
    "                galaxy_tools.add(s['tool_id'])\n",
    "                count=count+1\n",
    "        seq_len.append(count)\n",
    "        wf2tools[wf_name]=tool_list"
   ]
  }
 ],
 "metadata": {
  "kernelspec": {
   "display_name": "Python 3 (ipykernel)",
   "language": "python",
   "name": "python3"
  },
  "language_info": {
   "codemirror_mode": {
    "name": "ipython",
    "version": 3
   },
   "file_extension": ".py",
   "mimetype": "text/x-python",
   "name": "python",
   "nbconvert_exporter": "python",
   "pygments_lexer": "ipython3",
   "version": "3.11.3"
  }
 },
 "nbformat": 4,
 "nbformat_minor": 5
}
